{
 "cells": [
  {
   "cell_type": "code",
   "execution_count": 7,
   "id": "5e53f80d",
   "metadata": {},
   "outputs": [],
   "source": [
    "#installing necessary libraries\n",
    "import pandas as pd\n",
    "import numpy as np\n",
    "import matplotlib.pyplot as plt\n",
    "import seaborn as sns\n",
    "from sklearn.cluster import KMeans\n",
    "from sklearn.preprocessing import StandardScaler"
   ]
  },
  {
   "cell_type": "code",
   "execution_count": 8,
   "id": "bd5a09b1",
   "metadata": {},
   "outputs": [],
   "source": [
    "# Load dataset\n",
    "df = pd.read_csv(\"dataset.csv\")"
   ]
  },
  {
   "cell_type": "code",
   "execution_count": 9,
   "id": "f1bc6920",
   "metadata": {},
   "outputs": [],
   "source": [
    "# Normalize column names\n",
    "df.columns = [col.strip().lower().replace(\" \", \"_\") for col in df.columns]"
   ]
  },
  {
   "cell_type": "code",
   "execution_count": 10,
   "id": "d210f1c8",
   "metadata": {},
   "outputs": [],
   "source": [
    "# Rename the date column for consistency\n",
    "df.rename(columns={'invoicedate': 'invoice_date'}, inplace=True)"
   ]
  },
  {
   "cell_type": "markdown",
   "id": "e87fb435",
   "metadata": {},
   "source": [
    "# Preprocessing"
   ]
  },
  {
   "cell_type": "code",
   "execution_count": 11,
   "id": "d076589b",
   "metadata": {},
   "outputs": [],
   "source": [
    "# Convert invoice_date to datetime\n",
    "df['invoice_date'] = pd.to_datetime(df['invoice_date'], errors='coerce')"
   ]
  },
  {
   "cell_type": "code",
   "execution_count": 12,
   "id": "5a1aef5e",
   "metadata": {},
   "outputs": [],
   "source": [
    "# Drop rows with missing customer IDs or dates\n",
    "df.dropna(subset=['customerid', 'invoice_date'], inplace=True)"
   ]
  },
  {
   "cell_type": "code",
   "execution_count": 13,
   "id": "6861a215",
   "metadata": {},
   "outputs": [],
   "source": [
    "# Ensure numeric types\n",
    "df['quantity'] = pd.to_numeric(df['quantity'], errors='coerce')\n",
    "df['unitprice'] = pd.to_numeric(df['unitprice'], errors='coerce')"
   ]
  },
  {
   "cell_type": "code",
   "execution_count": 14,
   "id": "d5396b44",
   "metadata": {},
   "outputs": [],
   "source": [
    "# Remove returns and invalid values\n",
    "df = df[(df['quantity'] > 0) & (df['unitprice'] > 0)]"
   ]
  },
  {
   "cell_type": "code",
   "execution_count": 15,
   "id": "b5968545",
   "metadata": {},
   "outputs": [],
   "source": [
    "# Create sales column\n",
    "df['sales'] = df['quantity'] * df['unitprice']"
   ]
  },
  {
   "cell_type": "markdown",
   "id": "92bb221f",
   "metadata": {},
   "source": [
    "#  RFM Metric Calculation"
   ]
  },
  {
   "cell_type": "code",
   "execution_count": 16,
   "id": "6faefaa8",
   "metadata": {},
   "outputs": [],
   "source": [
    "snapshot_date = df['invoice_date'].max() + pd.Timedelta(days=1)"
   ]
  },
  {
   "cell_type": "code",
   "execution_count": 17,
   "id": "d27a1fe7",
   "metadata": {},
   "outputs": [],
   "source": [
    "rfm = df.groupby('customerid').agg({\n",
    "    'invoice_date': lambda x: (snapshot_date - x.max()).days,  # Recency\n",
    "    'invoiceno': 'nunique',                                    # Frequency\n",
    "    'sales': 'sum'                                             # Monetary\n",
    "}).rename(columns={'invoice_date': 'recency', 'invoiceno': 'frequency', 'sales': 'monetary'})"
   ]
  },
  {
   "cell_type": "markdown",
   "id": "3604b732",
   "metadata": {},
   "source": [
    "#  RFM Scoring"
   ]
  },
  {
   "cell_type": "code",
   "execution_count": 18,
   "id": "1705a899",
   "metadata": {},
   "outputs": [],
   "source": [
    "rfm['r_score'] = pd.qcut(rfm['recency'], 5, labels=[5, 4, 3, 2, 1])\n",
    "rfm['f_score'] = pd.qcut(rfm['frequency'].rank(method='first'), 5, labels=[1, 2, 3, 4, 5])\n",
    "rfm['m_score'] = pd.qcut(rfm['monetary'], 5, labels=[1, 2, 3, 4, 5])\n",
    "\n",
    "rfm['rfm_score'] = rfm['r_score'].astype(str) + rfm['f_score'].astype(str) + rfm['m_score'].astype(str)"
   ]
  },
  {
   "cell_type": "markdown",
   "id": "7da5b924",
   "metadata": {},
   "source": [
    "#  Customer Segmentation (KMeans)"
   ]
  },
  {
   "cell_type": "code",
   "execution_count": 19,
   "id": "c787b9a3",
   "metadata": {},
   "outputs": [],
   "source": [
    "scaler = StandardScaler()\n",
    "scaled = scaler.fit_transform(rfm[['recency', 'frequency', 'monetary']])\n",
    "\n",
    "kmeans = KMeans(n_clusters=4, random_state=42)\n",
    "rfm['cluster'] = kmeans.fit_predict(scaled)"
   ]
  },
  {
   "cell_type": "markdown",
   "id": "38ea5b2e",
   "metadata": {},
   "source": [
    "#  Visualization"
   ]
  },
  {
   "cell_type": "code",
   "execution_count": 20,
   "id": "6336f1a0",
   "metadata": {},
   "outputs": [],
   "source": [
    "plt.figure(figsize=(8, 6))\n",
    "sns.scatterplot(data=rfm, x='recency', y='monetary', hue='cluster', palette='Set2')\n",
    "plt.title(\"Customer Segmentation (Recency vs Monetary)\")\n",
    "plt.tight_layout()\n",
    "plt.savefig(\"rfm_cluster_plot.png\")\n",
    "plt.close()"
   ]
  },
  {
   "cell_type": "markdown",
   "id": "07197e98",
   "metadata": {},
   "source": [
    "# Export"
   ]
  },
  {
   "cell_type": "code",
   "execution_count": 21,
   "id": "7df68087",
   "metadata": {},
   "outputs": [
    {
     "name": "stdout",
     "output_type": "stream",
     "text": [
      "Success: 'rfm_segmented_customers.csv' and 'rfm_cluster_plot.png' saved.\n"
     ]
    }
   ],
   "source": [
    "rfm.reset_index().to_csv(\"rfm_segmented_customers.csv\", index=False)\n",
    "print(\"Success: 'rfm_segmented_customers.csv' and 'rfm_cluster_plot.png' saved.\")\n"
   ]
  }
 ],
 "metadata": {
  "kernelspec": {
   "display_name": "base",
   "language": "python",
   "name": "python3"
  },
  "language_info": {
   "codemirror_mode": {
    "name": "ipython",
    "version": 3
   },
   "file_extension": ".py",
   "mimetype": "text/x-python",
   "name": "python",
   "nbconvert_exporter": "python",
   "pygments_lexer": "ipython3",
   "version": "3.12.7"
  }
 },
 "nbformat": 4,
 "nbformat_minor": 5
}
